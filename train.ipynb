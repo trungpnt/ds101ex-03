{
 "cells": [
  {
   "cell_type": "code",
   "execution_count": 1,
   "metadata": {
    "collapsed": false,
    "jupyter": {
     "outputs_hidden": false
    },
    "pycharm": {
     "name": "#%%\n"
    }
   },
   "outputs": [],
   "source": [
    "import numpy as np\n",
    "import pandas as pd\n",
    "from digit_classifier import DigitClassifier"
   ]
  },
  {
   "cell_type": "code",
   "execution_count": 2,
   "metadata": {
    "collapsed": false,
    "jupyter": {
     "outputs_hidden": false
    },
    "pycharm": {
     "name": "#%%\n"
    }
   },
   "outputs": [
    {
     "name": "stdout",
     "output_type": "stream",
     "text": [
      "(60000, 784) (60000,)\n"
     ]
    }
   ],
   "source": [
    "#load training set\n",
    "df = pd.read_csv('datasets/mnist_train.csv')\n",
    "train_data = df.values\n",
    "x = train_data[:, 1:]\n",
    "y = train_data[:, 0]\n",
    "print(x.shape, y.shape)\n"
   ]
  },
  {
   "cell_type": "code",
   "execution_count": 3,
   "metadata": {
    "collapsed": false,
    "jupyter": {
     "outputs_hidden": false
    },
    "pycharm": {
     "name": "#%%\n"
    }
   },
   "outputs": [
    {
     "name": "stdout",
     "output_type": "stream",
     "text": [
      "WARNING:tensorflow:From D:\\ProgramFiles\\Anaconda\\envs\\ds101\\lib\\site-packages\\tensorflow_core\\python\\ops\\resource_variable_ops.py:1630: calling BaseResourceVariable.__init__ (from tensorflow.python.ops.resource_variable_ops) with constraint is deprecated and will be removed in a future version.\n",
      "Instructions for updating:\n",
      "If using Keras pass *_constraint arguments to layers.\n",
      "Model: \"model\"\n",
      "_________________________________________________________________\n",
      "Layer (type)                 Output Shape              Param #   \n",
      "=================================================================\n",
      "input_1 (InputLayer)         [(None, 784)]             0         \n",
      "_________________________________________________________________\n",
      "dense (Dense)                (None, 512)               401920    \n",
      "_________________________________________________________________\n",
      "dense_1 (Dense)              (None, 256)               131328    \n",
      "_________________________________________________________________\n",
      "dense_2 (Dense)              (None, 128)               32896     \n",
      "_________________________________________________________________\n",
      "dense_3 (Dense)              (None, 64)                8256      \n",
      "_________________________________________________________________\n",
      "dense_4 (Dense)              (None, 32)                2080      \n",
      "_________________________________________________________________\n",
      "dense_5 (Dense)              (None, 10)                330       \n",
      "=================================================================\n",
      "Total params: 576,810\n",
      "Trainable params: 576,810\n",
      "Non-trainable params: 0\n",
      "_________________________________________________________________\n",
      "None\n"
     ]
    }
   ],
   "source": [
    "# build your model\n",
    "classifer = DigitClassifier()\n",
    "classifer.build_model()"
   ]
  },
  {
   "cell_type": "code",
   "execution_count": 4,
   "metadata": {
    "collapsed": false,
    "jupyter": {
     "outputs_hidden": false
    },
    "pycharm": {
     "name": "#%%\n"
    }
   },
   "outputs": [
    {
     "name": "stdout",
     "output_type": "stream",
     "text": [
      "Train on 48000 samples, validate on 12000 samples\n",
      "Epoch 1/50\n",
      "48000/48000 [==============================] - 11s 221us/sample - loss: 0.5471 - sparse_categorical_accuracy: 0.8892 - val_loss: 0.2073 - val_sparse_categorical_accuracy: 0.9423\n",
      "Epoch 2/50\n",
      "48000/48000 [==============================] - 11s 227us/sample - loss: 0.1710 - sparse_categorical_accuracy: 0.9524 - val_loss: 0.1587 - val_sparse_categorical_accuracy: 0.9547\n",
      "Epoch 3/50\n",
      "48000/48000 [==============================] - 10s 215us/sample - loss: 0.1488 - sparse_categorical_accuracy: 0.9585 - val_loss: 0.1558 - val_sparse_categorical_accuracy: 0.9581\n",
      "Epoch 4/50\n",
      "48000/48000 [==============================] - 10s 212us/sample - loss: 0.1201 - sparse_categorical_accuracy: 0.9653 - val_loss: 0.1370 - val_sparse_categorical_accuracy: 0.9626\n",
      "Epoch 5/50\n",
      "48000/48000 [==============================] - 10s 213us/sample - loss: 0.1052 - sparse_categorical_accuracy: 0.9705 - val_loss: 0.1556 - val_sparse_categorical_accuracy: 0.9637\n",
      "Epoch 6/50\n",
      "48000/48000 [==============================] - 11s 223us/sample - loss: 0.0878 - sparse_categorical_accuracy: 0.9746 - val_loss: 0.1356 - val_sparse_categorical_accuracy: 0.9692\n",
      "Epoch 7/50\n",
      "48000/48000 [==============================] - 10s 213us/sample - loss: 0.0858 - sparse_categorical_accuracy: 0.9769 - val_loss: 0.1354 - val_sparse_categorical_accuracy: 0.9678\n",
      "Epoch 8/50\n",
      "48000/48000 [==============================] - 11s 222us/sample - loss: 0.0666 - sparse_categorical_accuracy: 0.9819 - val_loss: 0.1164 - val_sparse_categorical_accuracy: 0.9723\n",
      "Epoch 9/50\n",
      "48000/48000 [==============================] - 11s 229us/sample - loss: 0.0650 - sparse_categorical_accuracy: 0.9825 - val_loss: 0.1286 - val_sparse_categorical_accuracy: 0.9705\n",
      "Epoch 10/50\n",
      "48000/48000 [==============================] - 13s 262us/sample - loss: 0.0610 - sparse_categorical_accuracy: 0.9838 - val_loss: 0.1245 - val_sparse_categorical_accuracy: 0.9755\n",
      "Epoch 11/50\n",
      "48000/48000 [==============================] - 10s 207us/sample - loss: 0.0527 - sparse_categorical_accuracy: 0.9865 - val_loss: 0.1630 - val_sparse_categorical_accuracy: 0.9723\n",
      "Epoch 12/50\n",
      "48000/48000 [==============================] - 10s 204us/sample - loss: 0.0530 - sparse_categorical_accuracy: 0.9867 - val_loss: 0.1259 - val_sparse_categorical_accuracy: 0.9770\n",
      "Epoch 13/50\n",
      "48000/48000 [==============================] - 10s 199us/sample - loss: 0.0434 - sparse_categorical_accuracy: 0.9900 - val_loss: 0.1392 - val_sparse_categorical_accuracy: 0.9744\n"
     ]
    }
   ],
   "source": [
    "# train your model\n",
    "classifer.train(x, y)"
   ]
  },
  {
   "cell_type": "code",
   "execution_count": 5,
   "metadata": {
    "collapsed": false,
    "jupyter": {
     "outputs_hidden": false
    },
    "pycharm": {
     "name": "#%%\n"
    }
   },
   "outputs": [],
   "source": [
    "# save your model\n",
    "classifer.save_model()"
   ]
  }
 ],
 "metadata": {
  "kernelspec": {
   "display_name": "Python 3",
   "language": "python",
   "name": "python3"
  },
  "language_info": {
   "codemirror_mode": {
    "name": "ipython",
    "version": 3
   },
   "file_extension": ".py",
   "mimetype": "text/x-python",
   "name": "python",
   "nbconvert_exporter": "python",
   "pygments_lexer": "ipython3",
   "version": "3.7.7"
  }
 },
 "nbformat": 4,
 "nbformat_minor": 4
}
