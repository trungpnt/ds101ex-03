{
 "cells": [
  {
   "cell_type": "code",
   "execution_count": 1,
   "metadata": {
    "collapsed": false,
    "jupyter": {
     "outputs_hidden": false
    },
    "pycharm": {
     "name": "#%%\n"
    }
   },
   "outputs": [],
   "source": [
    "import numpy as np\n",
    "import pandas as pd\n",
    "from digit_classifier import DigitClassifier"
   ]
  },
  {
   "cell_type": "code",
   "execution_count": 2,
   "metadata": {
    "collapsed": false,
    "jupyter": {
     "outputs_hidden": false
    },
    "pycharm": {
     "name": "#%%\n"
    }
   },
   "outputs": [
    {
     "name": "stdout",
     "output_type": "stream",
     "text": [
      "(60000, 784) (60000,)\n"
     ]
    }
   ],
   "source": [
    "#load training set\n",
    "df = pd.read_csv('datasets/mnist_train.csv')\n",
    "train_data = df.values\n",
    "x = train_data[:, 1:]\n",
    "y = train_data[:, 0]\n",
    "print(x.shape, y.shape)\n"
   ]
  },
  {
   "cell_type": "code",
   "execution_count": 3,
   "metadata": {
    "collapsed": false,
    "jupyter": {
     "outputs_hidden": false
    },
    "pycharm": {
     "name": "#%%\n"
    }
   },
   "outputs": [
    {
     "name": "stdout",
     "output_type": "stream",
     "text": [
      "WARNING:tensorflow:From D:\\ProgramFiles\\Anaconda\\envs\\ds101\\lib\\site-packages\\tensorflow_core\\python\\ops\\resource_variable_ops.py:1630: calling BaseResourceVariable.__init__ (from tensorflow.python.ops.resource_variable_ops) with constraint is deprecated and will be removed in a future version.\n",
      "Instructions for updating:\n",
      "If using Keras pass *_constraint arguments to layers.\n",
      "Model: \"model\"\n",
      "_________________________________________________________________\n",
      "Layer (type)                 Output Shape              Param #   \n",
      "=================================================================\n",
      "input_1 (InputLayer)         [(None, 784)]             0         \n",
      "_________________________________________________________________\n",
      "dense (Dense)                (None, 512)               401920    \n",
      "_________________________________________________________________\n",
      "dense_1 (Dense)              (None, 256)               131328    \n",
      "_________________________________________________________________\n",
      "dense_2 (Dense)              (None, 128)               32896     \n",
      "_________________________________________________________________\n",
      "dense_3 (Dense)              (None, 64)                8256      \n",
      "_________________________________________________________________\n",
      "dense_4 (Dense)              (None, 32)                2080      \n",
      "_________________________________________________________________\n",
      "dense_5 (Dense)              (None, 16)                528       \n",
      "_________________________________________________________________\n",
      "dense_6 (Dense)              (None, 10)                170       \n",
      "=================================================================\n",
      "Total params: 577,178\n",
      "Trainable params: 577,178\n",
      "Non-trainable params: 0\n",
      "_________________________________________________________________\n",
      "None\n"
     ]
    }
   ],
   "source": [
    "# build your model\n",
    "classifer = DigitClassifier()\n",
    "classifer.build_model()"
   ]
  },
  {
   "cell_type": "code",
   "execution_count": 4,
   "metadata": {
    "collapsed": false,
    "jupyter": {
     "outputs_hidden": false
    },
    "pycharm": {
     "name": "#%%\n"
    }
   },
   "outputs": [
    {
     "name": "stdout",
     "output_type": "stream",
     "text": [
      "Train on 48000 samples, validate on 12000 samples\n",
      "Epoch 1/50\n",
      "48000/48000 [==============================] - 14s 291us/sample - loss: 1.9553 - sparse_categorical_accuracy: 0.2869 - val_loss: 0.8197 - val_sparse_categorical_accuracy: 0.7155\n",
      "Epoch 2/50\n",
      "48000/48000 [==============================] - 14s 296us/sample - loss: 0.4501 - sparse_categorical_accuracy: 0.8664 - val_loss: 0.2141 - val_sparse_categorical_accuracy: 0.9427\n",
      "Epoch 3/50\n",
      "48000/48000 [==============================] - 13s 262us/sample - loss: 0.1905 - sparse_categorical_accuracy: 0.9511 - val_loss: 0.1654 - val_sparse_categorical_accuracy: 0.9593\n",
      "Epoch 4/50\n",
      "48000/48000 [==============================] - 10s 216us/sample - loss: 0.1415 - sparse_categorical_accuracy: 0.9634 - val_loss: 0.1764 - val_sparse_categorical_accuracy: 0.9563\n",
      "Epoch 5/50\n",
      "48000/48000 [==============================] - 10s 214us/sample - loss: 0.1166 - sparse_categorical_accuracy: 0.9704 - val_loss: 0.1482 - val_sparse_categorical_accuracy: 0.9648\n",
      "Epoch 6/50\n",
      "48000/48000 [==============================] - 10s 214us/sample - loss: 0.1025 - sparse_categorical_accuracy: 0.9734 - val_loss: 0.1411 - val_sparse_categorical_accuracy: 0.9659\n",
      "Epoch 7/50\n",
      "48000/48000 [==============================] - 11s 220us/sample - loss: 0.0851 - sparse_categorical_accuracy: 0.9785 - val_loss: 0.1349 - val_sparse_categorical_accuracy: 0.9685\n",
      "Epoch 8/50\n",
      "48000/48000 [==============================] - 12s 253us/sample - loss: 0.0796 - sparse_categorical_accuracy: 0.9792 - val_loss: 0.1322 - val_sparse_categorical_accuracy: 0.9707\n",
      "Epoch 9/50\n",
      "48000/48000 [==============================] - 11s 232us/sample - loss: 0.0676 - sparse_categorical_accuracy: 0.9838 - val_loss: 0.1292 - val_sparse_categorical_accuracy: 0.9700\n",
      "Epoch 10/50\n",
      "48000/48000 [==============================] - 12s 241us/sample - loss: 0.0699 - sparse_categorical_accuracy: 0.9832 - val_loss: 0.1362 - val_sparse_categorical_accuracy: 0.9695\n",
      "Epoch 11/50\n",
      "48000/48000 [==============================] - 11s 236us/sample - loss: 0.0504 - sparse_categorical_accuracy: 0.9869 - val_loss: 0.1457 - val_sparse_categorical_accuracy: 0.9706\n",
      "Epoch 12/50\n",
      "48000/48000 [==============================] - 13s 262us/sample - loss: 0.0503 - sparse_categorical_accuracy: 0.9872 - val_loss: 0.1287 - val_sparse_categorical_accuracy: 0.9732\n",
      "Epoch 13/50\n",
      "48000/48000 [==============================] - 12s 255us/sample - loss: 0.0516 - sparse_categorical_accuracy: 0.9872 - val_loss: 0.1462 - val_sparse_categorical_accuracy: 0.9693\n",
      "Epoch 14/50\n",
      "48000/48000 [==============================] - 10s 218us/sample - loss: 0.0473 - sparse_categorical_accuracy: 0.9883 - val_loss: 0.1167 - val_sparse_categorical_accuracy: 0.9757\n",
      "Epoch 15/50\n",
      "48000/48000 [==============================] - 11s 219us/sample - loss: 0.0392 - sparse_categorical_accuracy: 0.9896 - val_loss: 0.1359 - val_sparse_categorical_accuracy: 0.9755\n",
      "Epoch 16/50\n",
      "48000/48000 [==============================] - 11s 223us/sample - loss: 0.0430 - sparse_categorical_accuracy: 0.9894 - val_loss: 0.1384 - val_sparse_categorical_accuracy: 0.9739\n",
      "Epoch 17/50\n",
      "48000/48000 [==============================] - 12s 250us/sample - loss: 0.0355 - sparse_categorical_accuracy: 0.9910 - val_loss: 0.1223 - val_sparse_categorical_accuracy: 0.9759\n",
      "Epoch 18/50\n",
      "48000/48000 [==============================] - 11s 236us/sample - loss: 0.0401 - sparse_categorical_accuracy: 0.9916 - val_loss: 0.1326 - val_sparse_categorical_accuracy: 0.9749\n",
      "Epoch 19/50\n",
      "48000/48000 [==============================] - 10s 218us/sample - loss: 0.0382 - sparse_categorical_accuracy: 0.9916 - val_loss: 0.1319 - val_sparse_categorical_accuracy: 0.9772\n"
     ]
    }
   ],
   "source": [
    "# train your model\n",
    "classifer.train(x, y)"
   ]
  },
  {
   "cell_type": "code",
   "execution_count": 5,
   "metadata": {
    "collapsed": false,
    "jupyter": {
     "outputs_hidden": false
    },
    "pycharm": {
     "name": "#%%\n"
    }
   },
   "outputs": [],
   "source": [
    "# save your model\n",
    "classifer.save_model()"
   ]
  }
 ],
 "metadata": {
  "kernelspec": {
   "display_name": "Python 3",
   "language": "python",
   "name": "python3"
  },
  "language_info": {
   "codemirror_mode": {
    "name": "ipython",
    "version": 3
   },
   "file_extension": ".py",
   "mimetype": "text/x-python",
   "name": "python",
   "nbconvert_exporter": "python",
   "pygments_lexer": "ipython3",
   "version": "3.7.7"
  }
 },
 "nbformat": 4,
 "nbformat_minor": 4
}
