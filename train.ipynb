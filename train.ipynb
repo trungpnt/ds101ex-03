{
 "cells": [
  {
   "cell_type": "code",
   "execution_count": 1,
   "metadata": {
    "collapsed": false,
    "jupyter": {
     "outputs_hidden": false
    },
    "pycharm": {
     "name": "#%%\n"
    }
   },
   "outputs": [],
   "source": [
    "import numpy as np\n",
    "import pandas as pd\n",
    "from digit_classifier import DigitClassifier"
   ]
  },
  {
   "cell_type": "code",
   "execution_count": 2,
   "metadata": {
    "collapsed": false,
    "jupyter": {
     "outputs_hidden": false
    },
    "pycharm": {
     "name": "#%%\n"
    }
   },
   "outputs": [
    {
     "name": "stdout",
     "output_type": "stream",
     "text": [
      "(60000, 784) (60000,)\n"
     ]
    }
   ],
   "source": [
    "#load training set\n",
    "df = pd.read_csv('datasets/mnist_train.csv')\n",
    "train_data = df.values\n",
    "x = train_data[:, 1:]\n",
    "y = train_data[:, 0]\n",
    "print(x.shape, y.shape)\n"
   ]
  },
  {
   "cell_type": "code",
   "execution_count": 3,
   "metadata": {
    "collapsed": false,
    "jupyter": {
     "outputs_hidden": false
    },
    "pycharm": {
     "name": "#%%\n"
    }
   },
   "outputs": [
    {
     "name": "stdout",
     "output_type": "stream",
     "text": [
      "WARNING:tensorflow:From D:\\ProgramFiles\\Anaconda\\envs\\ds101\\lib\\site-packages\\tensorflow_core\\python\\ops\\resource_variable_ops.py:1630: calling BaseResourceVariable.__init__ (from tensorflow.python.ops.resource_variable_ops) with constraint is deprecated and will be removed in a future version.\n",
      "Instructions for updating:\n",
      "If using Keras pass *_constraint arguments to layers.\n",
      "Model: \"model\"\n",
      "_________________________________________________________________\n",
      "Layer (type)                 Output Shape              Param #   \n",
      "=================================================================\n",
      "input_1 (InputLayer)         [(None, 784)]             0         \n",
      "_________________________________________________________________\n",
      "dense (Dense)                (None, 512)               401920    \n",
      "_________________________________________________________________\n",
      "dense_1 (Dense)              (None, 256)               131328    \n",
      "_________________________________________________________________\n",
      "dense_2 (Dense)              (None, 128)               32896     \n",
      "_________________________________________________________________\n",
      "dense_3 (Dense)              (None, 64)                8256      \n",
      "_________________________________________________________________\n",
      "dense_4 (Dense)              (None, 32)                2080      \n",
      "_________________________________________________________________\n",
      "dense_5 (Dense)              (None, 10)                330       \n",
      "=================================================================\n",
      "Total params: 576,810\n",
      "Trainable params: 576,810\n",
      "Non-trainable params: 0\n",
      "_________________________________________________________________\n",
      "None\n"
     ]
    }
   ],
   "source": [
    "# build your model\n",
    "classifer = DigitClassifier()\n",
    "classifer.build_model()"
   ]
  },
  {
   "cell_type": "code",
   "execution_count": 4,
   "metadata": {
    "collapsed": false,
    "jupyter": {
     "outputs_hidden": false
    },
    "pycharm": {
     "name": "#%%\n"
    }
   },
   "outputs": [
    {
     "name": "stdout",
     "output_type": "stream",
     "text": [
      "Train on 48000 samples, validate on 12000 samples\n",
      "Epoch 1/50\n",
      "48000/48000 [==============================] - 10s 199us/sample - loss: 0.8032 - acc: 0.8191 - val_loss: 0.3131 - val_acc: 0.9078\n",
      "Epoch 2/50\n",
      "48000/48000 [==============================] - 9s 191us/sample - loss: 0.2541 - acc: 0.9254 - val_loss: 0.2450 - val_acc: 0.9312\n",
      "Epoch 3/50\n",
      "48000/48000 [==============================] - 9s 191us/sample - loss: 0.1792 - acc: 0.9471 - val_loss: 0.2065 - val_acc: 0.9426\n",
      "Epoch 4/50\n",
      "48000/48000 [==============================] - 9s 191us/sample - loss: 0.1370 - acc: 0.9593 - val_loss: 0.1945 - val_acc: 0.9446\n",
      "Epoch 5/50\n",
      "48000/48000 [==============================] - 9s 191us/sample - loss: 0.1089 - acc: 0.9677 - val_loss: 0.1910 - val_acc: 0.9466\n",
      "Epoch 6/50\n",
      "48000/48000 [==============================] - 10s 199us/sample - loss: 0.0884 - acc: 0.9746 - val_loss: 0.1846 - val_acc: 0.9505\n",
      "Epoch 7/50\n",
      "48000/48000 [==============================] - 9s 198us/sample - loss: 0.0717 - acc: 0.9791 - val_loss: 0.1797 - val_acc: 0.9514\n",
      "Epoch 8/50\n",
      "48000/48000 [==============================] - 10s 200us/sample - loss: 0.0579 - acc: 0.9841 - val_loss: 0.1760 - val_acc: 0.9538\n",
      "Epoch 9/50\n",
      "48000/48000 [==============================] - 10s 199us/sample - loss: 0.0479 - acc: 0.9865 - val_loss: 0.1778 - val_acc: 0.9549\n",
      "Epoch 10/50\n",
      "48000/48000 [==============================] - 9s 194us/sample - loss: 0.0394 - acc: 0.9894 - val_loss: 0.1774 - val_acc: 0.9541\n",
      "Epoch 11/50\n",
      "48000/48000 [==============================] - 9s 194us/sample - loss: 0.0326 - acc: 0.9919 - val_loss: 0.1779 - val_acc: 0.9572\n",
      "Epoch 12/50\n",
      "48000/48000 [==============================] - 9s 192us/sample - loss: 0.0273 - acc: 0.9931 - val_loss: 0.1890 - val_acc: 0.9543\n",
      "Epoch 13/50\n",
      "48000/48000 [==============================] - 10s 205us/sample - loss: 0.0222 - acc: 0.9952 - val_loss: 0.1811 - val_acc: 0.9572\n"
     ]
    }
   ],
   "source": [
    "# train your model\n",
    "classifer.train(x, y)"
   ]
  },
  {
   "cell_type": "code",
   "execution_count": 6,
   "metadata": {
    "collapsed": false,
    "jupyter": {
     "outputs_hidden": false
    },
    "pycharm": {
     "name": "#%%\n"
    }
   },
   "outputs": [],
   "source": [
    "# save your model\n",
    "classifer.save_model()"
   ]
  }
 ],
 "metadata": {
  "kernelspec": {
   "display_name": "Python 3",
   "language": "python",
   "name": "python3"
  },
  "language_info": {
   "codemirror_mode": {
    "name": "ipython",
    "version": 3
   },
   "file_extension": ".py",
   "mimetype": "text/x-python",
   "name": "python",
   "nbconvert_exporter": "python",
   "pygments_lexer": "ipython3",
   "version": "3.7.7"
  }
 },
 "nbformat": 4,
 "nbformat_minor": 4
}
